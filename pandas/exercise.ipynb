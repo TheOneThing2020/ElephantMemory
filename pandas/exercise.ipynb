{
 "cells": [
  {
   "cell_type": "code",
   "execution_count": 1,
   "metadata": {},
   "outputs": [],
   "source": [
    "import pandas as pd\n",
    "import numpy as np"
   ]
  },
  {
   "cell_type": "code",
   "execution_count": 2,
   "metadata": {},
   "outputs": [],
   "source": [
    "movie = pd.read_csv('data/movie.csv')"
   ]
  },
  {
   "cell_type": "code",
   "execution_count": 3,
   "metadata": {},
   "outputs": [],
   "source": [
    "director = movie['director_name']"
   ]
  },
  {
   "cell_type": "code",
   "execution_count": 5,
   "metadata": {
    "scrolled": true
   },
   "outputs": [
    {
     "data": {
      "text/plain": [
       "Steven Spielberg        26\n",
       "Woody Allen             22\n",
       "Martin Scorsese         20\n",
       "Clint Eastwood          20\n",
       "Ridley Scott            16\n",
       "Spike Lee               16\n",
       "Steven Soderbergh       15\n",
       "Renny Harlin            15\n",
       "Oliver Stone            14\n",
       "Tim Burton              14\n",
       "Robert Zemeckis         13\n",
       "Barry Levinson          13\n",
       "Ron Howard              13\n",
       "Robert Rodriguez        13\n",
       "Joel Schumacher         13\n",
       "Kevin Smith             12\n",
       "Tony Scott              12\n",
       "Michael Bay             12\n",
       "Brian De Palma          12\n",
       "Francis Ford Coppola    11\n",
       "Richard Donner          11\n",
       "Sam Raimi               11\n",
       "Richard Linklater       11\n",
       "Rob Reiner              11\n",
       "Chris Columbus          11\n",
       "Shawn Levy              11\n",
       "Wes Craven              10\n",
       "Bobby Farrelly          10\n",
       "David Fincher           10\n",
       "John McTiernan          10\n",
       "                        ..\n",
       "Greg Berlanti            1\n",
       "Stevan Mena              1\n",
       "Chris Butler             1\n",
       "Louis Morneau            1\n",
       "Christophe Ali           1\n",
       "Dean Wright              1\n",
       "Michael Roemer           1\n",
       "Jeff Kanew               1\n",
       "Myles Berkowitz          1\n",
       "Lloyd Bacon              1\n",
       "Christopher Landon       1\n",
       "John Maybury             1\n",
       "Lisanne Pajot            1\n",
       "Andrea Di Stefano        1\n",
       "Charles Adelman          1\n",
       "Jim Chuchu               1\n",
       "David Worth              1\n",
       "Josh Schwartz            1\n",
       "Robert Bennett           1\n",
       "Jérôme Deschamps         1\n",
       "Floyd Mutrux             1\n",
       "Udayan Prasad            1\n",
       "Pitof                    1\n",
       "Diane English            1\n",
       "John Guillermin          1\n",
       "Henry Koster             1\n",
       "Qasim Basir              1\n",
       "Olatunde Osunsanmi       1\n",
       "Kelly Makin              1\n",
       "A. Raven Cruz            1\n",
       "Name: director_name, Length: 2397, dtype: int64"
      ]
     },
     "execution_count": 5,
     "metadata": {},
     "output_type": "execute_result"
    }
   ],
   "source": [
    "director.value_counts()"
   ]
  },
  {
   "cell_type": "code",
   "execution_count": null,
   "metadata": {},
   "outputs": [],
   "source": [
    "director.shape"
   ]
  },
  {
   "cell_type": "code",
   "execution_count": null,
   "metadata": {},
   "outputs": [],
   "source": [
    "director.count()"
   ]
  },
  {
   "cell_type": "code",
   "execution_count": null,
   "metadata": {},
   "outputs": [],
   "source": [
    "director.mod()"
   ]
  },
  {
   "cell_type": "code",
   "execution_count": null,
   "metadata": {},
   "outputs": [],
   "source": [
    "movie.insert()"
   ]
  },
  {
   "cell_type": "code",
   "execution_count": null,
   "metadata": {},
   "outputs": [],
   "source": []
  },
  {
   "cell_type": "code",
   "execution_count": null,
   "metadata": {},
   "outputs": [],
   "source": []
  }
 ],
 "metadata": {
  "kernelspec": {
   "display_name": "Python 3",
   "language": "python",
   "name": "python3"
  },
  "language_info": {
   "codemirror_mode": {
    "name": "ipython",
    "version": 3
   },
   "file_extension": ".py",
   "mimetype": "text/x-python",
   "name": "python",
   "nbconvert_exporter": "python",
   "pygments_lexer": "ipython3",
   "version": "3.6.5"
  }
 },
 "nbformat": 4,
 "nbformat_minor": 2
}
